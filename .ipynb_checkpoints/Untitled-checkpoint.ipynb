{
 "cells": [
  {
   "cell_type": "markdown",
   "metadata": {},
   "source": [
    "# Q-learning "
   ]
  },
  {
   "cell_type": "code",
   "execution_count": null,
   "metadata": {},
   "outputs": [],
   "source": [
    "#!pip install cmake 'gym[atari]' scipy\n",
    "\n",
    "from collections import defaultdict\n",
    "import pickle\n",
    "import random\n",
    "import click\n",
    "import gym"
   ]
  },
  {
   "cell_type": "code",
   "execution_count": null,
   "metadata": {},
   "outputs": [],
   "source": [
    "def select_optimal_action(q_table, state, action_space):\n",
    "    max_q_value_action = None\n",
    "    max_q_value = 0\n",
    "\n",
    "    if q_table[state]:\n",
    "        for action, action_q_value in q_table[state].items():\n",
    "            if action_q_value >= max_q_value:\n",
    "                max_q_value = action_q_value\n",
    "                max_q_value_action = action\n",
    "\n",
    "    return max_q_value_action if max_q_value_action else action_space.sample()"
   ]
  },
  {
   "cell_type": "markdown",
   "metadata": {},
   "source": [
    "## Train"
   ]
  },
  {
   "cell_type": "code",
   "execution_count": null,
   "metadata": {},
   "outputs": [],
   "source": [
    "# The hyperparameters\n",
    "alpha = 0.1\n",
    "gamma = 0.6\n",
    "epsilon = 0.1\n",
    "\n",
    "NUM_EPISODES = 100000\n",
    "\n",
    "\n",
    "def update(q_table, env, state):\n",
    "    if random.uniform(0, 1) < epsilon:\n",
    "        action = env.action_space.sample()\n",
    "    else:\n",
    "        action = select_optimal_action(q_table, state, env.action_space)\n",
    "\n",
    "    next_state, reward, _, _ = env.step(action)\n",
    "    old_q_value = q_table[state][action]\n",
    "\n",
    "    # Check if next_state has q values already\n",
    "    if not q_table[next_state]:\n",
    "        q_table[next_state] = {action: 0 for action in range(env.action_space.n)}\n",
    "\n",
    "    # Maximum q_value for the actions in next state\n",
    "    next_max = max(q_table[next_state].values())\n",
    "\n",
    "    # Calculate the new q_value\n",
    "    new_q_value = (1 - alpha) * old_q_value + alpha * (reward + gamma * next_max)\n",
    "\n",
    "    # Finally, update the q_value\n",
    "    q_table[state][action] = new_q_value\n",
    "\n",
    "    return next_state, reward\n",
    "\n",
    "\n",
    "def train_agent(q_table, env, num_episodes):\n",
    "    for i in range(num_episodes):\n",
    "        state = env.reset()\n",
    "        if not q_table[state]:\n",
    "            q_table[state] = {\n",
    "                action: 0 for action in range(env.action_space.n)}\n",
    "\n",
    "        epochs = 0\n",
    "        num_penalties, reward, total_reward = 0, 0, 0\n",
    "        while reward != 20:\n",
    "            state, reward = update(q_table, env, state)\n",
    "            total_reward += reward\n",
    "\n",
    "            if reward == -10:\n",
    "                num_penalties += 1\n",
    "\n",
    "            epochs += 1\n",
    "        print(\"\\nTraining episode {}\".format(i + 1))\n",
    "        print(\"Time steps: {}, Penalties: {}, Reward: {}\".format(epochs,\n",
    "                                                                 num_penalties,\n",
    "                                                                 total_reward))\n",
    "\n",
    "    print(\"Training finished.\\n\")\n",
    "\n",
    "    return q_table"
   ]
  },
  {
   "cell_type": "code",
   "execution_count": null,
   "metadata": {},
   "outputs": [],
   "source": [
    "env = gym.make(\"Taxi-v3\")\n",
    "q_table = defaultdict(int, {})\n",
    "q_table = train_agent(q_table, env, NUM_EPISODES)\n",
    "\n",
    "# save the table for future use\n",
    "with open(\"q_table.pickle\", \"wb\") as f:\n",
    "    pickle.dump(dict(q_table), f)"
   ]
  },
  {
   "cell_type": "markdown",
   "metadata": {},
   "source": [
    "## Evaluation"
   ]
  },
  {
   "cell_type": "code",
   "execution_count": null,
   "metadata": {},
   "outputs": [],
   "source": [
    "NUM_EPISODES = 100\n",
    "\n",
    "\n",
    "def evaluate_agent(q_table, env, num_trials):\n",
    "    total_epochs, total_penalties = 0, 0\n",
    "\n",
    "    print(\"Running episodes...\")\n",
    "    for _ in range(num_trials):\n",
    "        state = env.reset()\n",
    "        epochs, num_penalties, reward = 0, 0, 0\n",
    "\n",
    "        while reward != 20:\n",
    "            next_action = select_optimal_action(q_table,\n",
    "                                                state,\n",
    "                                                env.action_space)\n",
    "            state, reward, _, _ = env.step(next_action)\n",
    "\n",
    "            if reward == -10:\n",
    "                num_penalties += 1\n",
    "\n",
    "            epochs += 1\n",
    "\n",
    "        total_penalties += num_penalties\n",
    "        total_epochs += epochs\n",
    "\n",
    "    average_time = total_epochs / float(num_trials)\n",
    "    average_penalties = total_penalties / float(num_trials)\n",
    "    print(\"Evaluation results after {} trials\".format(num_trials))\n",
    "    print(\"Average time steps taken: {}\".format(average_time))\n",
    "    print(\"Average number of penalties incurred: {}\".format(average_penalties))\n",
    "\n",
    "\n",
    "env = gym.make(\"Taxi-v3\")\n",
    "with open(\"q_table.pickle\", 'rb') as f:\n",
    "    q_table = pickle.load(f)\n",
    "evaluate_agent(q_table, env, NUM_EPISODES)"
   ]
  },
  {
   "cell_type": "code",
   "execution_count": null,
   "metadata": {},
   "outputs": [],
   "source": []
  }
 ],
 "metadata": {
  "kernelspec": {
   "display_name": "Python 3",
   "language": "python",
   "name": "python3"
  },
  "language_info": {
   "codemirror_mode": {
    "name": "ipython",
    "version": 3
   },
   "file_extension": ".py",
   "mimetype": "text/x-python",
   "name": "python",
   "nbconvert_exporter": "python",
   "pygments_lexer": "ipython3",
   "version": "3.7.6"
  }
 },
 "nbformat": 4,
 "nbformat_minor": 4
}
